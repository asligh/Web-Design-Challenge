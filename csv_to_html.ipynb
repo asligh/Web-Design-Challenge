{
 "cells": [
  {
   "cell_type": "code",
   "execution_count": 1,
   "metadata": {},
   "outputs": [],
   "source": [
    "# Dependencies and Setup\n",
    "import pandas as pd\n",
    "\n",
    "# File to Load \n",
    "city_file = \"Resources/cities.csv\"\n",
    "\n",
    "city_metadata = pd.read_csv(city_file)\n",
    "city_df       = pd.DataFrame(city_metadata)\n",
    "city_df       = city_df.set_index(\"City_ID\")\n",
    "\n",
    "html_df = city_df.to_html(buf=None,\n",
    "                          columns=None,\n",
    "                          header=True,\n",
    "                          index=True, \n",
    "                          na_rep='NaN',\n",
    "                          formatters=None,\n",
    "                          float_format=None,\n",
    "                          sparsify=None,\n",
    "                          index_names=True, \n",
    "                          justify=None,\n",
    "                          bold_rows=True,\n",
    "                          classes=None, \n",
    "                          escape=True, \n",
    "                          max_rows=None, \n",
    "                          max_cols=None, \n",
    "                          show_dimensions=False,\n",
    "                          notebook=False)\n",
    "\n",
    "with open(\"Resources/HtmlOutput.txt\", \"w\") as text_file:\n",
    "    text_file.write(html_df)"
   ]
  },
  {
   "cell_type": "code",
   "execution_count": null,
   "metadata": {},
   "outputs": [],
   "source": []
  }
 ],
 "metadata": {
  "anaconda-cloud": {},
  "kernel_info": {
   "name": "python3"
  },
  "kernelspec": {
   "display_name": "Python 3 (ipykernel)",
   "language": "python",
   "name": "python3"
  },
  "language_info": {
   "codemirror_mode": {
    "name": "ipython",
    "version": 3
   },
   "file_extension": ".py",
   "mimetype": "text/x-python",
   "name": "python",
   "nbconvert_exporter": "python",
   "pygments_lexer": "ipython3",
   "version": "3.8.11"
  },
  "latex_envs": {
   "LaTeX_envs_menu_present": true,
   "autoclose": false,
   "autocomplete": true,
   "bibliofile": "biblio.bib",
   "cite_by": "apalike",
   "current_citInitial": 1,
   "eqLabelWithNumbers": true,
   "eqNumInitial": 1,
   "hotkeys": {
    "equation": "Ctrl-E",
    "itemize": "Ctrl-I"
   },
   "labels_anchors": false,
   "latex_user_defs": false,
   "report_style_numbering": false,
   "user_envs_cfg": false
  },
  "nteract": {
   "version": "0.8.4"
  }
 },
 "nbformat": 4,
 "nbformat_minor": 1
}
